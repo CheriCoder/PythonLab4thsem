{
 "cells": [
  {
   "cell_type": "code",
   "execution_count": 1,
   "id": "c1053262",
   "metadata": {},
   "outputs": [
    {
     "name": "stdout",
     "output_type": "stream",
     "text": [
      "\n",
      "Unsorted List\n",
      "[45, 988, 525, 762, 117, 388, 960, 197, 40, 337]\n",
      "Sorting using Insertion Sort\n",
      "[40, 45, 117, 197, 337, 388, 525, 762, 960, 988]\n",
      "\n",
      "Unsorted List\n",
      "[112, 888, 136, 340, 492, 982, 429, 314, 352, 485]\n",
      "Sorting using Merge Sort\n",
      "[485, 485, 485, 982, 485, 982, 429, 314, 352, 485]\n"
     ]
    }
   ],
   "source": [
    "import random\n",
    "def merge_sort(lst):\n",
    "    if len(lst) > 1:\n",
    "        mid = len(lst) // 2\n",
    "        left_half = lst[:mid]\n",
    "        right_half = lst[mid:]\n",
    "        merge_sort(left_half)\n",
    "        merge_sort(right_half)\n",
    "        i = j = k = 0\n",
    "        while i < len(left_half) and j < len(right_half):\n",
    "            if left_half[i] < right_half[j]:\n",
    "                lst[k] = left_half[i]\n",
    "                i += 1\n",
    "            else:\n",
    "                lst[k] = right_half[j]\n",
    "                j += 1\n",
    "                k += 1\n",
    "        while i < len(left_half):\n",
    "            lst[k] = left_half[i]\n",
    "            i += 1\n",
    "            k += 1\n",
    "        while j < len(right_half):\n",
    "            lst[k] = right_half[j]\n",
    "            j += 1\n",
    "            k += 1\n",
    "    return lst\n",
    "def insertion_sort(arr):\n",
    "    for i in range(1, len(arr)):\n",
    "        key = arr[i]\n",
    "        j = i - 1\n",
    "        while j >= 0 and key < arr[j]:\n",
    "            arr[j + 1] = arr[j]\n",
    "            j -= 1\n",
    "        arr[j + 1] = key\n",
    "my_list = []\n",
    "for i in range(10):\n",
    "    my_list.append(random.randint(0, 999))\n",
    "print(\"\\nUnsorted List\")\n",
    "print(my_list)\n",
    "print(\"Sorting using Insertion Sort\")\n",
    "insertion_sort(my_list)\n",
    "print(my_list)\n",
    "my_list = []\n",
    "for i in range(10):\n",
    "    my_list.append(random.randint(0, 999))\n",
    "print(\"\\nUnsorted List\")\n",
    "print(my_list)\n",
    "print(\"Sorting using Merge Sort\")\n",
    "merge_sort(my_list)\n",
    "print(my_list)"
   ]
  },
  {
   "cell_type": "code",
   "execution_count": 2,
   "id": "eddb88d7",
   "metadata": {},
   "outputs": [
    {
     "name": "stdout",
     "output_type": "stream",
     "text": [
      "Enter a Roman Number : XVII\n",
      "17\n"
     ]
    }
   ],
   "source": [
    "def roman2Dec(romStr):\n",
    "    roman_dict ={'I': 1, 'V': 5, 'X': 10, 'L': 50, 'C': 100, 'D': 500, 'M': 1000}\n",
    "    romanBack = list(romStr)[::-1]\n",
    "    value = 0\n",
    "    rightVal = roman_dict[romanBack[0]]\n",
    "    for numeral in romanBack:\n",
    "        leftVal = roman_dict[numeral]\n",
    "        if leftVal < rightVal:\n",
    "            value -= leftVal\n",
    "        else:\n",
    "            value += leftVal\n",
    "            rightVal = leftVal\n",
    "    return value\n",
    "romanStr = input(\"Enter a Roman Number : \")\n",
    "print(roman2Dec(romanStr))"
   ]
  },
  {
   "cell_type": "code",
   "execution_count": 3,
   "id": "7e33d059",
   "metadata": {},
   "outputs": [
    {
     "name": "stdout",
     "output_type": "stream",
     "text": [
      "Enter a phone number : 444-654-5656\n",
      "Without using Regular Expression\n",
      "Valid phone number\n",
      "Using Regular Expression\n",
      "Valid phone number\n"
     ]
    }
   ],
   "source": [
    "import re\n",
    "def isphonenumber(numStr):\n",
    "    if len(numStr) != 12:\n",
    "        return False\n",
    "    for i in range(len(numStr)):\n",
    "        if i==3 or i==7:\n",
    "            if numStr[i] != \"-\":\n",
    "                return False\n",
    "        else:\n",
    "            if numStr[i].isdigit() == False:\n",
    "                return False\n",
    "            return True\n",
    "def chkphonenumber(numStr):\n",
    "    ph_no_pattern = re.compile(r'^\\d{3}-\\d{3}-\\d{4}$')\n",
    "    if ph_no_pattern.match(numStr):\n",
    "        return True\n",
    "    else:\n",
    "        return False\n",
    "ph_num = input(\"Enter a phone number : \")\n",
    "print(\"Without using Regular Expression\")\n",
    "if isphonenumber(ph_num):\n",
    "    print(\"Valid phone number\")\n",
    "else:\n",
    "    print(\"Invalid phone number\")\n",
    "print(\"Using Regular Expression\")\n",
    "if chkphonenumber(ph_num):\n",
    "    print(\"Valid phone number\")\n",
    "else:\n",
    "    print(\"Invalid phone number\")"
   ]
  },
  {
   "cell_type": "code",
   "execution_count": 5,
   "id": "28505d7b",
   "metadata": {},
   "outputs": [
    {
     "name": "stdout",
     "output_type": "stream",
     "text": [
      "+918003366812\n",
      "richkid@gmail.com\n"
     ]
    }
   ],
   "source": [
    "import re\n",
    "phone_regex = re.compile(r'\\+\\d{12}')\n",
    "email_regex = re.compile(r'[A-Za-z0-9._]+@[A-Za-z0-9]+\\.[A-Z|a-z]{2,}')\n",
    "with open('example.txt', 'r') as f:\n",
    "    for line in f:\n",
    "        matches = phone_regex.findall(line)\n",
    "        for match in matches:\n",
    "            print(match)\n",
    "        matches = email_regex.findall(line)\n",
    "        for match in matches:\n",
    "            print(match) "
   ]
  },
  {
   "cell_type": "code",
   "execution_count": null,
   "id": "9027716e",
   "metadata": {},
   "outputs": [],
   "source": []
  }
 ],
 "metadata": {
  "kernelspec": {
   "display_name": "Python 3 (ipykernel)",
   "language": "python",
   "name": "python3"
  },
  "language_info": {
   "codemirror_mode": {
    "name": "ipython",
    "version": 3
   },
   "file_extension": ".py",
   "mimetype": "text/x-python",
   "name": "python",
   "nbconvert_exporter": "python",
   "pygments_lexer": "ipython3",
   "version": "3.10.9"
  }
 },
 "nbformat": 4,
 "nbformat_minor": 5
}
