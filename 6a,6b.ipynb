{
 "cells": [
  {
   "cell_type": "code",
   "execution_count": 8,
   "id": "3936877a",
   "metadata": {},
   "outputs": [
    {
     "name": "stdout",
     "output_type": "stream",
     "text": [
      "Enter the filename : example.txt\n",
      "1 : hello. my name is ram nam satya hai.i am bery rich person. if u want to get rich too ples contact richkid@gmail.com. I am bery active in whatsapp , so u can call me at +7070707070 or +918003366812\n",
      "Enter a word : bery\n",
      "The word bery appears 2 times in the file\n"
     ]
    }
   ],
   "source": [
    "import os.path\n",
    "import sys\n",
    "fname = input(\"Enter the filename : \")\n",
    "if not os.path.isfile(fname):\n",
    "    print(\"File\", fname, \"doesn't exists\")\n",
    "    sys.exit(0)\n",
    "infile = open(fname, \"r\")\n",
    "lineList = infile.readlines()\n",
    "for i in range(1):\n",
    "    print(i+1, \":\", lineList[i])\n",
    "word = input(\"Enter a word : \")\n",
    "cnt = 0\n",
    "for line in lineList:\n",
    "    cnt += line.count(word)\n",
    "print(\"The word\", word, \"appears\", cnt, \"times in the file\")"
   ]
  },
  {
   "cell_type": "code",
   "execution_count": 10,
   "id": "769893d1",
   "metadata": {},
   "outputs": [
    {
     "name": "stdout",
     "output_type": "stream",
     "text": [
      "Enter Directory name that you want to backup : C:\\Users\\CSD 32\\Saved Games\n",
      "Archive myZip.zip created successfully\n"
     ]
    }
   ],
   "source": [
    "import os\n",
    "import sys\n",
    "import pathlib\n",
    "import zipfile\n",
    "dirName = input(\"Enter Directory name that you want to backup : \")\n",
    "if not os.path.isdir(dirName):\n",
    "    print(\"Directory\", dirName, \"doesn't exists\")\n",
    "    sys.exit(0)\n",
    "\n",
    "curDirectory = pathlib.Path(dirName)\n",
    "\n",
    "with zipfile.ZipFile(\"myZip.zip\", mode=\"w\") as archive:\n",
    "    for file_path in curDirectory.rglob(\"*\"):\n",
    "        archive.write(file_path, arcname=file_path.relative_to(curDirectory))\n",
    "\n",
    "if os.path.isfile(\"myZip.zip\"):\n",
    "    print(\"Archive\", \"myZip.zip\", \"created successfully\")\n",
    "else:\n",
    "    print(\"Error in creating zip archive\")\n"
   ]
  },
  {
   "cell_type": "code",
   "execution_count": null,
   "id": "bfb14bdc",
   "metadata": {},
   "outputs": [],
   "source": []
  }
 ],
 "metadata": {
  "kernelspec": {
   "display_name": "Python 3 (ipykernel)",
   "language": "python",
   "name": "python3"
  },
  "language_info": {
   "codemirror_mode": {
    "name": "ipython",
    "version": 3
   },
   "file_extension": ".py",
   "mimetype": "text/x-python",
   "name": "python",
   "nbconvert_exporter": "python",
   "pygments_lexer": "ipython3",
   "version": "3.10.9"
  }
 },
 "nbformat": 4,
 "nbformat_minor": 5
}
