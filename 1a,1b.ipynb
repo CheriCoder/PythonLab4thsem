{
 "cells": [
  {
   "cell_type": "code",
   "execution_count": 2,
   "id": "a72d5048",
   "metadata": {},
   "outputs": [
    {
     "name": "stdout",
     "output_type": "stream",
     "text": [
      "Enter marks for test1 : 25\n",
      "Enter marks for test2 : 27\n",
      "Enter marks for test3 : 29\n",
      "Average of best two test marks out of three test’s marks is 28.0\n"
     ]
    }
   ],
   "source": [
    "m1 = int(input(\"Enter marks for test1 : \"))\n",
    "m2 = int(input(\"Enter marks for test2 : \"))\n",
    "m3 = int(input(\"Enter marks for test3 : \"))\n",
    "if m1 <= m2 and m1 <= m3:\n",
    "    avgMarks = (m2+m3)/2\n",
    "elif m2 <= m1 and m2 <= m3:\n",
    "    avgMarks = (m1+m3)/2\n",
    "elif m3 <= m1 and m2 <= m2:\n",
    "    avgMarks = (m1+m2)/2 \n",
    "print(\"Average of best two test marks out of three test’s marks is\", avgMarks);"
   ]
  },
  {
   "cell_type": "code",
   "execution_count": 3,
   "id": "5b88001c",
   "metadata": {},
   "outputs": [
    {
     "name": "stdout",
     "output_type": "stream",
     "text": [
      "Enter a value : 535\n",
      "Palindrome\n",
      "3 appears 1 times\n",
      "5 appears 2 times\n"
     ]
    }
   ],
   "source": [
    "val = int(input(\"Enter a value : \"))\n",
    "str_val = str(val)\n",
    "if str_val == str_val[::-1]:\n",
    "    print(\"Palindrome\")\n",
    "else:\n",
    "    print(\"Not Palindrome\")\n",
    "\n",
    "for i in range(10):\n",
    "    if str_val.count(str(i)) > 0:\n",
    "        print(str(i),\"appears\", str_val.count(str(i)), \"times\");\n"
   ]
  },
  {
   "cell_type": "code",
   "execution_count": null,
   "id": "ab979484",
   "metadata": {},
   "outputs": [],
   "source": []
  }
 ],
 "metadata": {
  "kernelspec": {
   "display_name": "Python 3 (ipykernel)",
   "language": "python",
   "name": "python3"
  },
  "language_info": {
   "codemirror_mode": {
    "name": "ipython",
    "version": 3
   },
   "file_extension": ".py",
   "mimetype": "text/x-python",
   "name": "python",
   "nbconvert_exporter": "python",
   "pygments_lexer": "ipython3",
   "version": "3.10.9"
  }
 },
 "nbformat": 4,
 "nbformat_minor": 5
}
