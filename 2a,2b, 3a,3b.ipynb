{
 "cells": [
  {
   "cell_type": "code",
   "execution_count": 1,
   "id": "d782b09d",
   "metadata": {},
   "outputs": [
    {
     "name": "stdout",
     "output_type": "stream",
     "text": [
      "Enter a number : 3\n",
      "fn(3) = 1\n"
     ]
    }
   ],
   "source": [
    "def fn(n):\n",
    "    if n == 1:\n",
    "        return 0\n",
    "    elif n == 2:\n",
    "        return 1\n",
    "    else:\n",
    "        return fn(n-1) + fn(n-2)\n",
    "\n",
    "num = int(input(\"Enter a number : \"))\n",
    "if num > 0:\n",
    "    print(\"fn(\", num, \") = \",fn(num) , sep =\"\")\n",
    "else:\n",
    "    print(\"Error in input\")"
   ]
  },
  {
   "cell_type": "code",
   "execution_count": 11,
   "id": "e578c1c6",
   "metadata": {},
   "outputs": [
    {
     "name": "stdout",
     "output_type": "stream",
     "text": [
      "Enter a binary number : 1000\n",
      "8\n",
      "Enter a octal number : 675\n",
      "1BD\n"
     ]
    }
   ],
   "source": [
    "def bin2Dec(val):\n",
    "    rev=val[::-1]\n",
    "    dec = 0\n",
    "    i = 0\n",
    "    for dig in rev:\n",
    "        dec += int(dig) * 2**i\n",
    "        i += 1\n",
    "    return dec\n",
    "def oct2Hex(val):\n",
    "    rev=val[::-1]\n",
    "    dec = 0\n",
    "    i = 0\n",
    "    for dig in rev:\n",
    "        dec += int(dig) * 8**i\n",
    "        i += 1\n",
    "    list1=[]\n",
    "    while dec != 0:\n",
    "            list1.append(dec%16)\n",
    "            dec = dec // 16\n",
    "    nl=[]\n",
    "    for elem in list1[::-1]:\n",
    "        if elem <= 9:\n",
    "            nl.append(str(elem))\n",
    "        else:\n",
    "            nl.append(chr(ord('A') + (elem -10)))\n",
    "    hex = \"\".join(nl)\n",
    "    return hex\n",
    "num1 = input(\"Enter a binary number : \") \n",
    "print(bin2Dec(num1))\n",
    "num2 = input(\"Enter a octal number : \")\n",
    "print(oct2Hex(num2))"
   ]
  },
  {
   "cell_type": "code",
   "execution_count": 16,
   "id": "7d106de9",
   "metadata": {},
   "outputs": [
    {
     "name": "stdout",
     "output_type": "stream",
     "text": [
      "Enter a sentence : Ram is a boy\n",
      "This sentence has 4 words\n",
      "This sentence has 0 digits 1 upper case letters 8 lower case letters\n"
     ]
    }
   ],
   "source": [
    "sentence = input(\"Enter a sentence : \")\n",
    "wordList = sentence.split(\" \")\n",
    "print(\"This sentence has\", len(wordList), \"words\")\n",
    "digCnt = upCnt = loCnt = 0\n",
    "for ch in sentence:\n",
    "    if '0' <= ch <= '9':\n",
    "        digCnt += 1\n",
    "    elif 'A' <= ch <= 'Z':\n",
    "        upCnt += 1\n",
    "    elif 'a' <= ch <= 'z':\n",
    "        loCnt += 1\n",
    "print(\"This sentence has\", digCnt, \"digits\", upCnt, \"upper case letters\", loCnt, \n",
    "\"lower case letters\")"
   ]
  },
  {
   "cell_type": "code",
   "execution_count": 18,
   "id": "ff6ac79c",
   "metadata": {},
   "outputs": [
    {
     "name": "stdout",
     "output_type": "stream",
     "text": [
      "Enter String 1 \n",
      "snek\n",
      "Enter String 2 \n",
      "smek\n",
      "Similarity between two said strings:\n",
      "0.75\n"
     ]
    }
   ],
   "source": [
    "str1 = input(\"Enter String 1 \\n\")\n",
    "str2 = input(\"Enter String 2 \\n\")\n",
    "if len(str2) < len(str1):\n",
    "    short = len(str2)\n",
    "    long = len(str1)\n",
    "else:\n",
    "    short = len(str1)\n",
    "    long = len(str2)\n",
    "matchCnt = 0\n",
    "for i in range(short):\n",
    "    if str1[i] == str2[i]:\n",
    "        matchCnt += 1\n",
    "print(\"Similarity between two said strings:\")\n",
    "print(matchCnt/long)"
   ]
  },
  {
   "cell_type": "code",
   "execution_count": null,
   "id": "aa6f456d",
   "metadata": {},
   "outputs": [],
   "source": []
  }
 ],
 "metadata": {
  "kernelspec": {
   "display_name": "Python 3 (ipykernel)",
   "language": "python",
   "name": "python3"
  },
  "language_info": {
   "codemirror_mode": {
    "name": "ipython",
    "version": 3
   },
   "file_extension": ".py",
   "mimetype": "text/x-python",
   "name": "python",
   "nbconvert_exporter": "python",
   "pygments_lexer": "ipython3",
   "version": "3.10.9"
  }
 },
 "nbformat": 4,
 "nbformat_minor": 5
}
