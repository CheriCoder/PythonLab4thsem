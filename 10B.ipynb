{
 "cells": [
  {
   "cell_type": "code",
   "execution_count": 9,
   "id": "6076a904-dfbb-40d8-a58d-be785f57549e",
   "metadata": {},
   "outputs": [
    {
     "name": "stdout",
     "output_type": "stream",
     "text": [
      "Current Weather Data:\n",
      "City: New York\n",
      "Temperature: {'temp': 15.45, 'feels_like': 12.74, 'temp_min': 14.44, 'temp_max': 16.11, 'pressure': 1017, 'humidity': 64}°C\n",
      "Coordinates: {'lon': -73.99, 'lat': 40.73}°\n",
      "Conditions: {'type': 1, 'id': 5141, 'country': 'US', 'sunrise': 1617951158, 'sunset': 1618000213}\n"
     ]
    }
   ],
   "source": [
    "import json\n",
    "\n",
    "def fetch_weather_data_from_json(file_path):\n",
    "    try:\n",
    "        with open(file_path, \"r\") as json_file:\n",
    "            weather_data = json.load(json_file)\n",
    "            return weather_data\n",
    "    except FileNotFoundError:\n",
    "        print(f\"File not found: {file_path}\")\n",
    "    except json.JSONDecodeError:\n",
    "        print(f\"Invalid JSON format in the file: {file_path}\")\n",
    "    except Exception as e:\n",
    "        print(f\"Error occurred while reading the JSON file: {e}\")\n",
    "    return None\n",
    "\n",
    "if __name__ == \"__main__\":\n",
    "    file_path = \"weather.json\"\n",
    "    weather = fetch_weather_data_from_json(file_path)\n",
    "\n",
    "    if weather:\n",
    "        print(\"Current Weather Data:\")\n",
    "        print(f\"City: {weather['name']}\")\n",
    "        print(f\"Temperature: {weather['main']}°C\")\n",
    "        print(f\"Coordinates: {weather['coord']}°\")\n",
    "        print(f\"Conditions: {weather['sys']}\")\n",
    "    else:\n",
    "        print(\"Failed to fetch weather data from the JSON file.\")\n"
   ]
  },
  {
   "cell_type": "code",
   "execution_count": null,
   "id": "fc3f3c3e-6a99-4704-a856-8353b82e565e",
   "metadata": {},
   "outputs": [],
   "source": []
  }
 ],
 "metadata": {
  "kernelspec": {
   "display_name": "Python 3 (ipykernel)",
   "language": "python",
   "name": "python3"
  },
  "language_info": {
   "codemirror_mode": {
    "name": "ipython",
    "version": 3
   },
   "file_extension": ".py",
   "mimetype": "text/x-python",
   "name": "python",
   "nbconvert_exporter": "python",
   "pygments_lexer": "ipython3",
   "version": "3.9.17"
  }
 },
 "nbformat": 4,
 "nbformat_minor": 5
}
